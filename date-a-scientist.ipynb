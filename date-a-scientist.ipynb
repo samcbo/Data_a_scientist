{
 "cells": [
  {
   "cell_type": "markdown",
   "metadata": {},
   "source": [
    "# Date-a-scientist analysis"
   ]
  },
  {
   "cell_type": "markdown",
   "metadata": {},
   "source": [
    "#### Explore the data"
   ]
  },
  {
   "cell_type": "code",
   "execution_count": 35,
   "metadata": {},
   "outputs": [],
   "source": [
    " # Import modules\n",
    "    \n",
    "import numpy as np\n",
    "import pandas as pd\n",
    "from matplotlib import pyplot as plt\n",
    "import seaborn as sns\n",
    "\n"
   ]
  },
  {
   "cell_type": "code",
   "execution_count": 36,
   "metadata": {},
   "outputs": [
    {
     "name": "stdout",
     "output_type": "stream",
     "text": [
      "59946\n"
     ]
    }
   ],
   "source": [
    "data = pd.read_csv('profiles.csv')\n",
    "print(len(data))"
   ]
  },
  {
   "cell_type": "code",
   "execution_count": 37,
   "metadata": {
    "scrolled": true
   },
   "outputs": [
    {
     "data": {
      "text/html": [
       "<div>\n",
       "<style scoped>\n",
       "    .dataframe tbody tr th:only-of-type {\n",
       "        vertical-align: middle;\n",
       "    }\n",
       "\n",
       "    .dataframe tbody tr th {\n",
       "        vertical-align: top;\n",
       "    }\n",
       "\n",
       "    .dataframe thead th {\n",
       "        text-align: right;\n",
       "    }\n",
       "</style>\n",
       "<table border=\"1\" class=\"dataframe\">\n",
       "  <thead>\n",
       "    <tr style=\"text-align: right;\">\n",
       "      <th></th>\n",
       "      <th>age</th>\n",
       "      <th>body_type</th>\n",
       "      <th>diet</th>\n",
       "      <th>drinks</th>\n",
       "      <th>drugs</th>\n",
       "      <th>education</th>\n",
       "      <th>essay0</th>\n",
       "      <th>essay1</th>\n",
       "      <th>essay2</th>\n",
       "      <th>essay3</th>\n",
       "      <th>...</th>\n",
       "      <th>location</th>\n",
       "      <th>offspring</th>\n",
       "      <th>orientation</th>\n",
       "      <th>pets</th>\n",
       "      <th>religion</th>\n",
       "      <th>sex</th>\n",
       "      <th>sign</th>\n",
       "      <th>smokes</th>\n",
       "      <th>speaks</th>\n",
       "      <th>status</th>\n",
       "    </tr>\n",
       "  </thead>\n",
       "  <tbody>\n",
       "    <tr>\n",
       "      <th>0</th>\n",
       "      <td>22</td>\n",
       "      <td>a little extra</td>\n",
       "      <td>strictly anything</td>\n",
       "      <td>socially</td>\n",
       "      <td>never</td>\n",
       "      <td>working on college/university</td>\n",
       "      <td>about me:&lt;br /&gt;\\n&lt;br /&gt;\\ni would love to think...</td>\n",
       "      <td>currently working as an international agent fo...</td>\n",
       "      <td>making people laugh.&lt;br /&gt;\\nranting about a go...</td>\n",
       "      <td>the way i look. i am a six foot half asian, ha...</td>\n",
       "      <td>...</td>\n",
       "      <td>south san francisco, california</td>\n",
       "      <td>doesn&amp;rsquo;t have kids, but might want them</td>\n",
       "      <td>straight</td>\n",
       "      <td>likes dogs and likes cats</td>\n",
       "      <td>agnosticism and very serious about it</td>\n",
       "      <td>m</td>\n",
       "      <td>gemini</td>\n",
       "      <td>sometimes</td>\n",
       "      <td>english</td>\n",
       "      <td>single</td>\n",
       "    </tr>\n",
       "    <tr>\n",
       "      <th>1</th>\n",
       "      <td>35</td>\n",
       "      <td>average</td>\n",
       "      <td>mostly other</td>\n",
       "      <td>often</td>\n",
       "      <td>sometimes</td>\n",
       "      <td>working on space camp</td>\n",
       "      <td>i am a chef: this is what that means.&lt;br /&gt;\\n1...</td>\n",
       "      <td>dedicating everyday to being an unbelievable b...</td>\n",
       "      <td>being silly. having ridiculous amonts of fun w...</td>\n",
       "      <td>NaN</td>\n",
       "      <td>...</td>\n",
       "      <td>oakland, california</td>\n",
       "      <td>doesn&amp;rsquo;t have kids, but might want them</td>\n",
       "      <td>straight</td>\n",
       "      <td>likes dogs and likes cats</td>\n",
       "      <td>agnosticism but not too serious about it</td>\n",
       "      <td>m</td>\n",
       "      <td>cancer</td>\n",
       "      <td>no</td>\n",
       "      <td>english (fluently), spanish (poorly), french (...</td>\n",
       "      <td>single</td>\n",
       "    </tr>\n",
       "    <tr>\n",
       "      <th>2</th>\n",
       "      <td>38</td>\n",
       "      <td>thin</td>\n",
       "      <td>anything</td>\n",
       "      <td>socially</td>\n",
       "      <td>NaN</td>\n",
       "      <td>graduated from masters program</td>\n",
       "      <td>i'm not ashamed of much, but writing public te...</td>\n",
       "      <td>i make nerdy software for musicians, artists, ...</td>\n",
       "      <td>improvising in different contexts. alternating...</td>\n",
       "      <td>my large jaw and large glasses are the physica...</td>\n",
       "      <td>...</td>\n",
       "      <td>san francisco, california</td>\n",
       "      <td>NaN</td>\n",
       "      <td>straight</td>\n",
       "      <td>has cats</td>\n",
       "      <td>NaN</td>\n",
       "      <td>m</td>\n",
       "      <td>pisces but it doesn&amp;rsquo;t matter</td>\n",
       "      <td>no</td>\n",
       "      <td>english, french, c++</td>\n",
       "      <td>available</td>\n",
       "    </tr>\n",
       "    <tr>\n",
       "      <th>3</th>\n",
       "      <td>23</td>\n",
       "      <td>thin</td>\n",
       "      <td>vegetarian</td>\n",
       "      <td>socially</td>\n",
       "      <td>NaN</td>\n",
       "      <td>working on college/university</td>\n",
       "      <td>i work in a library and go to school. . .</td>\n",
       "      <td>reading things written by old dead people</td>\n",
       "      <td>playing synthesizers and organizing books acco...</td>\n",
       "      <td>socially awkward but i do my best</td>\n",
       "      <td>...</td>\n",
       "      <td>berkeley, california</td>\n",
       "      <td>doesn&amp;rsquo;t want kids</td>\n",
       "      <td>straight</td>\n",
       "      <td>likes cats</td>\n",
       "      <td>NaN</td>\n",
       "      <td>m</td>\n",
       "      <td>pisces</td>\n",
       "      <td>no</td>\n",
       "      <td>english, german (poorly)</td>\n",
       "      <td>single</td>\n",
       "    </tr>\n",
       "    <tr>\n",
       "      <th>4</th>\n",
       "      <td>29</td>\n",
       "      <td>athletic</td>\n",
       "      <td>NaN</td>\n",
       "      <td>socially</td>\n",
       "      <td>never</td>\n",
       "      <td>graduated from college/university</td>\n",
       "      <td>hey how's it going? currently vague on the pro...</td>\n",
       "      <td>work work work work + play</td>\n",
       "      <td>creating imagery to look at:&lt;br /&gt;\\nhttp://bag...</td>\n",
       "      <td>i smile a lot and my inquisitive nature</td>\n",
       "      <td>...</td>\n",
       "      <td>san francisco, california</td>\n",
       "      <td>NaN</td>\n",
       "      <td>straight</td>\n",
       "      <td>likes dogs and likes cats</td>\n",
       "      <td>NaN</td>\n",
       "      <td>m</td>\n",
       "      <td>aquarius</td>\n",
       "      <td>no</td>\n",
       "      <td>english</td>\n",
       "      <td>single</td>\n",
       "    </tr>\n",
       "  </tbody>\n",
       "</table>\n",
       "<p>5 rows × 31 columns</p>\n",
       "</div>"
      ],
      "text/plain": [
       "   age       body_type               diet    drinks      drugs  \\\n",
       "0   22  a little extra  strictly anything  socially      never   \n",
       "1   35         average       mostly other     often  sometimes   \n",
       "2   38            thin           anything  socially        NaN   \n",
       "3   23            thin         vegetarian  socially        NaN   \n",
       "4   29        athletic                NaN  socially      never   \n",
       "\n",
       "                           education  \\\n",
       "0      working on college/university   \n",
       "1              working on space camp   \n",
       "2     graduated from masters program   \n",
       "3      working on college/university   \n",
       "4  graduated from college/university   \n",
       "\n",
       "                                              essay0  \\\n",
       "0  about me:<br />\\n<br />\\ni would love to think...   \n",
       "1  i am a chef: this is what that means.<br />\\n1...   \n",
       "2  i'm not ashamed of much, but writing public te...   \n",
       "3          i work in a library and go to school. . .   \n",
       "4  hey how's it going? currently vague on the pro...   \n",
       "\n",
       "                                              essay1  \\\n",
       "0  currently working as an international agent fo...   \n",
       "1  dedicating everyday to being an unbelievable b...   \n",
       "2  i make nerdy software for musicians, artists, ...   \n",
       "3          reading things written by old dead people   \n",
       "4                         work work work work + play   \n",
       "\n",
       "                                              essay2  \\\n",
       "0  making people laugh.<br />\\nranting about a go...   \n",
       "1  being silly. having ridiculous amonts of fun w...   \n",
       "2  improvising in different contexts. alternating...   \n",
       "3  playing synthesizers and organizing books acco...   \n",
       "4  creating imagery to look at:<br />\\nhttp://bag...   \n",
       "\n",
       "                                              essay3  ...  \\\n",
       "0  the way i look. i am a six foot half asian, ha...  ...   \n",
       "1                                                NaN  ...   \n",
       "2  my large jaw and large glasses are the physica...  ...   \n",
       "3                  socially awkward but i do my best  ...   \n",
       "4            i smile a lot and my inquisitive nature  ...   \n",
       "\n",
       "                          location  \\\n",
       "0  south san francisco, california   \n",
       "1              oakland, california   \n",
       "2        san francisco, california   \n",
       "3             berkeley, california   \n",
       "4        san francisco, california   \n",
       "\n",
       "                                      offspring orientation  \\\n",
       "0  doesn&rsquo;t have kids, but might want them    straight   \n",
       "1  doesn&rsquo;t have kids, but might want them    straight   \n",
       "2                                           NaN    straight   \n",
       "3                       doesn&rsquo;t want kids    straight   \n",
       "4                                           NaN    straight   \n",
       "\n",
       "                        pets                                  religion sex  \\\n",
       "0  likes dogs and likes cats     agnosticism and very serious about it   m   \n",
       "1  likes dogs and likes cats  agnosticism but not too serious about it   m   \n",
       "2                   has cats                                       NaN   m   \n",
       "3                 likes cats                                       NaN   m   \n",
       "4  likes dogs and likes cats                                       NaN   m   \n",
       "\n",
       "                                 sign     smokes  \\\n",
       "0                              gemini  sometimes   \n",
       "1                              cancer         no   \n",
       "2  pisces but it doesn&rsquo;t matter         no   \n",
       "3                              pisces         no   \n",
       "4                            aquarius         no   \n",
       "\n",
       "                                              speaks     status  \n",
       "0                                            english     single  \n",
       "1  english (fluently), spanish (poorly), french (...     single  \n",
       "2                               english, french, c++  available  \n",
       "3                           english, german (poorly)     single  \n",
       "4                                            english     single  \n",
       "\n",
       "[5 rows x 31 columns]"
      ]
     },
     "execution_count": 37,
     "metadata": {},
     "output_type": "execute_result"
    }
   ],
   "source": [
    "data.head()"
   ]
  },
  {
   "cell_type": "code",
   "execution_count": 38,
   "metadata": {
    "scrolled": false
   },
   "outputs": [
    {
     "name": "stdout",
     "output_type": "stream",
     "text": [
      "age              int64\n",
      "body_type       object\n",
      "diet            object\n",
      "drinks          object\n",
      "drugs           object\n",
      "education       object\n",
      "essay0          object\n",
      "essay1          object\n",
      "essay2          object\n",
      "essay3          object\n",
      "essay4          object\n",
      "essay5          object\n",
      "essay6          object\n",
      "essay7          object\n",
      "essay8          object\n",
      "essay9          object\n",
      "ethnicity       object\n",
      "height         float64\n",
      "income           int64\n",
      "job             object\n",
      "last_online     object\n",
      "location        object\n",
      "offspring       object\n",
      "orientation     object\n",
      "pets            object\n",
      "religion        object\n",
      "sex             object\n",
      "sign            object\n",
      "smokes          object\n",
      "speaks          object\n",
      "status          object\n",
      "dtype: object\n"
     ]
    }
   ],
   "source": [
    "print(data.dtypes)"
   ]
  },
  {
   "cell_type": "code",
   "execution_count": 39,
   "metadata": {},
   "outputs": [
    {
     "name": "stdout",
     "output_type": "stream",
     "text": [
      "[18, 19, 20, 21, 22, 23, 24, 25, 26, 27, 28, 29, 30, 31, 32, 33, 34, 35, 36, 37, 38, 39, 40, 41, 42, 43, 44, 45, 46, 47, 48, 49, 50, 51, 52, 53, 54, 55, 56, 57, 58, 59, 60, 61, 62, 63, 64, 65, 66, 67, 68, 69, 109, 110]\n"
     ]
    }
   ],
   "source": [
    "print(sorted(data['age'].unique()))"
   ]
  },
  {
   "cell_type": "code",
   "execution_count": 40,
   "metadata": {},
   "outputs": [],
   "source": [
    "# Group ages\n",
    "age_groups = [0,19, 29, 39, 49, 59, 69, 79, 89, 99, 200]\n",
    "age_group_names = ['<20', '20s', '30s', '40s', '50s', '60s', '70s', '80s', '90s', '>= 100']\n",
    "data['age_range'] = pd.cut(\n",
    "    data['age'], bins=age_groups, labels=age_group_names)    "
   ]
  },
  {
   "cell_type": "code",
   "execution_count": 41,
   "metadata": {},
   "outputs": [
    {
     "data": {
      "image/png": "[encoded data removed]",
      "text/plain": [
       "<Figure size 432x288 with 1 Axes>"
      ]
     },
     "metadata": {
      "needs_background": "light"
     },
     "output_type": "display_data"
    }
   ],
   "source": [
    "data['age_range'].value_counts().plot(kind='bar')\n",
    "plt.title('Count Of Users In Each Age Range', fontsize = 16)\n",
    "plt.xlabel('Age Range', fontsize = 12)\n",
    "plt.ylabel('User Count', fontsize = 12)\n",
    "plt.show()\n",
    "\n"
   ]
  },
  {
   "cell_type": "code",
   "execution_count": 42,
   "metadata": {},
   "outputs": [
    {
     "name": "stdout",
     "output_type": "stream",
     "text": [
      "['m' 'f']\n"
     ]
    }
   ],
   "source": [
    "#find distribution of gender\n",
    "\n",
    "print(data['sex'].unique())"
   ]
  },
  {
   "cell_type": "code",
   "execution_count": 43,
   "metadata": {},
   "outputs": [
    {
     "data": {
      "image/png": "[encoded data removed]",
      "text/plain": [
       "<Figure size 432x288 with 1 Axes>"
      ]
     },
     "metadata": {},
     "output_type": "display_data"
    }
   ],
   "source": [
    "labels = ['Male', 'Female']\n",
    "\n",
    "explode = (0.1, 0.1)  # only \"explode\" the 2nd slice (i.e. 'Hogs')\n",
    "\n",
    "\n",
    "plt.pie(data['sex'].value_counts(), explode=explode, labels=labels, autopct='%1.1f%%',\n",
    "        shadow=True, startangle=90)\n",
    "plt.title('Proportion Of Genders', fontsize = 16)\n",
    "plt.show()\n"
   ]
  },
  {
   "cell_type": "code",
   "execution_count": 44,
   "metadata": {},
   "outputs": [
    {
     "name": "stdout",
     "output_type": "stream",
     "text": [
      "['likes dogs and likes cats' 'has cats' 'likes cats' nan\n",
      " 'has dogs and likes cats' 'likes dogs and has cats'\n",
      " 'likes dogs and dislikes cats' 'has dogs' 'has dogs and dislikes cats'\n",
      " 'likes dogs' 'has dogs and has cats' 'dislikes dogs and has cats'\n",
      " 'dislikes dogs and dislikes cats' 'dislikes cats'\n",
      " 'dislikes dogs and likes cats' 'dislikes dogs']\n",
      "15\n"
     ]
    }
   ],
   "source": [
    "print(data['pets'].unique())\n",
    "print(data['pets'].nunique())\n",
    "data = data.dropna(subset = 'pets')\n"
   ]
  },
  {
   "cell_type": "code",
   "execution_count": 45,
   "metadata": {},
   "outputs": [
    {
     "data": {
      "text/plain": [
       "<seaborn.axisgrid.FacetGrid at 0x1dad12ba610>"
      ]
     },
     "execution_count": 45,
     "metadata": {},
     "output_type": "execute_result"
    },
    {
     "data": {
      "image/png": "[encoded data removed]",
      "text/plain": [
       "<Figure size 360x360 with 1 Axes>"
      ]
     },
     "metadata": {
      "needs_background": "light"
     },
     "output_type": "display_data"
    }
   ],
   "source": [
    "ax = sns.displot(data=data, x=\"height\", kind=\"hist\", binwidth = 2, legend  =False).set(title = 'Height Distribution Of Users');\n",
    "ax.set_axis_labels(x_var = 'Height In Inches', y_var = 'Count')"
   ]
  },
  {
   "cell_type": "code",
   "execution_count": 46,
   "metadata": {},
   "outputs": [
    {
     "data": {
      "text/plain": [
       "<AxesSubplot:xlabel='count', ylabel='drinks'>"
      ]
     },
     "execution_count": 46,
     "metadata": {},
     "output_type": "execute_result"
    },
    {
     "data": {
      "image/png": "[encoded data removed]",
      "text/plain": [
       "<Figure size 432x288 with 1 Axes>"
      ]
     },
     "metadata": {
      "needs_background": "light"
     },
     "output_type": "display_data"
    }
   ],
   "source": [
    "sns.countplot(data=data, y=\"drinks\")"
   ]
  },
  {
   "cell_type": "code",
   "execution_count": 61,
   "metadata": {},
   "outputs": [
    {
     "data": {
      "text/plain": [
       "(19769, 8)"
      ]
     },
     "execution_count": 61,
     "metadata": {},
     "output_type": "execute_result"
    }
   ],
   "source": [
    "data['signsCleaned'] = data.sign.str.split().str.get(0)\n",
    "cols = ['body_type', 'diet', 'orientation', \n",
    "       'sex', 'job', 'signsCleaned', 'education','pets']\n",
    "df = data[cols].dropna()\n",
    "df.shape"
   ]
  },
  {
   "cell_type": "code",
   "execution_count": 62,
   "metadata": {},
   "outputs": [
    {
     "data": {
      "text/html": [
       "<div>\n",
       "<style scoped>\n",
       "    .dataframe tbody tr th:only-of-type {\n",
       "        vertical-align: middle;\n",
       "    }\n",
       "\n",
       "    .dataframe tbody tr th {\n",
       "        vertical-align: top;\n",
       "    }\n",
       "\n",
       "    .dataframe thead th {\n",
       "        text-align: right;\n",
       "    }\n",
       "</style>\n",
       "<table border=\"1\" class=\"dataframe\">\n",
       "  <thead>\n",
       "    <tr style=\"text-align: right;\">\n",
       "      <th></th>\n",
       "      <th>pets</th>\n",
       "      <th>body_type_a little extra</th>\n",
       "      <th>body_type_athletic</th>\n",
       "      <th>body_type_average</th>\n",
       "      <th>body_type_curvy</th>\n",
       "      <th>body_type_fit</th>\n",
       "      <th>body_type_full figured</th>\n",
       "      <th>body_type_jacked</th>\n",
       "      <th>body_type_overweight</th>\n",
       "      <th>body_type_rather not say</th>\n",
       "      <th>...</th>\n",
       "      <th>education_space camp</th>\n",
       "      <th>education_two-year college</th>\n",
       "      <th>education_working on college/university</th>\n",
       "      <th>education_working on high school</th>\n",
       "      <th>education_working on law school</th>\n",
       "      <th>education_working on masters program</th>\n",
       "      <th>education_working on med school</th>\n",
       "      <th>education_working on ph.d program</th>\n",
       "      <th>education_working on space camp</th>\n",
       "      <th>education_working on two-year college</th>\n",
       "    </tr>\n",
       "  </thead>\n",
       "  <tbody>\n",
       "    <tr>\n",
       "      <th>0</th>\n",
       "      <td>likes dogs and likes cats</td>\n",
       "      <td>1</td>\n",
       "      <td>0</td>\n",
       "      <td>0</td>\n",
       "      <td>0</td>\n",
       "      <td>0</td>\n",
       "      <td>0</td>\n",
       "      <td>0</td>\n",
       "      <td>0</td>\n",
       "      <td>0</td>\n",
       "      <td>...</td>\n",
       "      <td>0</td>\n",
       "      <td>0</td>\n",
       "      <td>1</td>\n",
       "      <td>0</td>\n",
       "      <td>0</td>\n",
       "      <td>0</td>\n",
       "      <td>0</td>\n",
       "      <td>0</td>\n",
       "      <td>0</td>\n",
       "      <td>0</td>\n",
       "    </tr>\n",
       "    <tr>\n",
       "      <th>1</th>\n",
       "      <td>likes dogs and likes cats</td>\n",
       "      <td>0</td>\n",
       "      <td>0</td>\n",
       "      <td>1</td>\n",
       "      <td>0</td>\n",
       "      <td>0</td>\n",
       "      <td>0</td>\n",
       "      <td>0</td>\n",
       "      <td>0</td>\n",
       "      <td>0</td>\n",
       "      <td>...</td>\n",
       "      <td>0</td>\n",
       "      <td>0</td>\n",
       "      <td>0</td>\n",
       "      <td>0</td>\n",
       "      <td>0</td>\n",
       "      <td>0</td>\n",
       "      <td>0</td>\n",
       "      <td>0</td>\n",
       "      <td>1</td>\n",
       "      <td>0</td>\n",
       "    </tr>\n",
       "    <tr>\n",
       "      <th>3</th>\n",
       "      <td>likes cats</td>\n",
       "      <td>0</td>\n",
       "      <td>0</td>\n",
       "      <td>0</td>\n",
       "      <td>0</td>\n",
       "      <td>0</td>\n",
       "      <td>0</td>\n",
       "      <td>0</td>\n",
       "      <td>0</td>\n",
       "      <td>0</td>\n",
       "      <td>...</td>\n",
       "      <td>0</td>\n",
       "      <td>0</td>\n",
       "      <td>1</td>\n",
       "      <td>0</td>\n",
       "      <td>0</td>\n",
       "      <td>0</td>\n",
       "      <td>0</td>\n",
       "      <td>0</td>\n",
       "      <td>0</td>\n",
       "      <td>0</td>\n",
       "    </tr>\n",
       "    <tr>\n",
       "      <th>5</th>\n",
       "      <td>likes cats</td>\n",
       "      <td>0</td>\n",
       "      <td>0</td>\n",
       "      <td>1</td>\n",
       "      <td>0</td>\n",
       "      <td>0</td>\n",
       "      <td>0</td>\n",
       "      <td>0</td>\n",
       "      <td>0</td>\n",
       "      <td>0</td>\n",
       "      <td>...</td>\n",
       "      <td>0</td>\n",
       "      <td>0</td>\n",
       "      <td>0</td>\n",
       "      <td>0</td>\n",
       "      <td>0</td>\n",
       "      <td>0</td>\n",
       "      <td>0</td>\n",
       "      <td>0</td>\n",
       "      <td>0</td>\n",
       "      <td>0</td>\n",
       "    </tr>\n",
       "    <tr>\n",
       "      <th>7</th>\n",
       "      <td>likes dogs and likes cats</td>\n",
       "      <td>0</td>\n",
       "      <td>0</td>\n",
       "      <td>1</td>\n",
       "      <td>0</td>\n",
       "      <td>0</td>\n",
       "      <td>0</td>\n",
       "      <td>0</td>\n",
       "      <td>0</td>\n",
       "      <td>0</td>\n",
       "      <td>...</td>\n",
       "      <td>0</td>\n",
       "      <td>0</td>\n",
       "      <td>0</td>\n",
       "      <td>0</td>\n",
       "      <td>0</td>\n",
       "      <td>0</td>\n",
       "      <td>0</td>\n",
       "      <td>0</td>\n",
       "      <td>0</td>\n",
       "      <td>0</td>\n",
       "    </tr>\n",
       "  </tbody>\n",
       "</table>\n",
       "<p>5 rows × 101 columns</p>\n",
       "</div>"
      ],
      "text/plain": [
       "                        pets  body_type_a little extra  body_type_athletic  \\\n",
       "0  likes dogs and likes cats                         1                   0   \n",
       "1  likes dogs and likes cats                         0                   0   \n",
       "3                 likes cats                         0                   0   \n",
       "5                 likes cats                         0                   0   \n",
       "7  likes dogs and likes cats                         0                   0   \n",
       "\n",
       "   body_type_average  body_type_curvy  body_type_fit  body_type_full figured  \\\n",
       "0                  0                0              0                       0   \n",
       "1                  1                0              0                       0   \n",
       "3                  0                0              0                       0   \n",
       "5                  1                0              0                       0   \n",
       "7                  1                0              0                       0   \n",
       "\n",
       "   body_type_jacked  body_type_overweight  body_type_rather not say  ...  \\\n",
       "0                 0                     0                         0  ...   \n",
       "1                 0                     0                         0  ...   \n",
       "3                 0                     0                         0  ...   \n",
       "5                 0                     0                         0  ...   \n",
       "7                 0                     0                         0  ...   \n",
       "\n",
       "   education_space camp  education_two-year college  \\\n",
       "0                     0                           0   \n",
       "1                     0                           0   \n",
       "3                     0                           0   \n",
       "5                     0                           0   \n",
       "7                     0                           0   \n",
       "\n",
       "   education_working on college/university  education_working on high school  \\\n",
       "0                                        1                                 0   \n",
       "1                                        0                                 0   \n",
       "3                                        1                                 0   \n",
       "5                                        0                                 0   \n",
       "7                                        0                                 0   \n",
       "\n",
       "   education_working on law school  education_working on masters program  \\\n",
       "0                                0                                     0   \n",
       "1                                0                                     0   \n",
       "3                                0                                     0   \n",
       "5                                0                                     0   \n",
       "7                                0                                     0   \n",
       "\n",
       "   education_working on med school  education_working on ph.d program  \\\n",
       "0                                0                                  0   \n",
       "1                                0                                  0   \n",
       "3                                0                                  0   \n",
       "5                                0                                  0   \n",
       "7                                0                                  0   \n",
       "\n",
       "   education_working on space camp  education_working on two-year college  \n",
       "0                                0                                      0  \n",
       "1                                1                                      0  \n",
       "3                                0                                      0  \n",
       "5                                0                                      0  \n",
       "7                                0                                      0  \n",
       "\n",
       "[5 rows x 101 columns]"
      ]
     },
     "execution_count": 62,
     "metadata": {},
     "output_type": "execute_result"
    }
   ],
   "source": [
    "for col in cols[:-1]:\n",
    "    df = pd.get_dummies(df, columns=[col], prefix = [col])\n",
    "df.head()"
   ]
  },
  {
   "cell_type": "code",
   "execution_count": 64,
   "metadata": {},
   "outputs": [],
   "source": [
    "col_length = len(df.columns)\n",
    "\n",
    "#Y is the target column, X has the rest\n",
    "X = df.iloc[:, 1:col_length]\n",
    "Y = df.iloc[:, 0:1]\n",
    "\n",
    "#Validation chunk size\n",
    "val_size = 0.25\n",
    "\n",
    "#Split the data into chunks\n",
    "from sklearn.model_selection import train_test_split \n",
    "X_train, X_val, Y_train, Y_val = train_test_split(X, Y, test_size=val_size, random_state = 0)\n",
    "\n",
    "#turn in to 1d arrays\n",
    "Y_train = Y_train.to_numpy().ravel()\n",
    "Y_val = Y_val.to_numpy().ravel()"
   ]
  },
  {
   "cell_type": "code",
   "execution_count": 65,
   "metadata": {},
   "outputs": [],
   "source": [
    "from sklearn.linear_model import LogisticRegression\n",
    "from sklearn.tree import DecisionTreeClassifier\n",
    "from sklearn.neighbors import KNeighborsClassifier"
   ]
  },
  {
   "cell_type": "code",
   "execution_count": 66,
   "metadata": {},
   "outputs": [],
   "source": [
    "lr_model = LogisticRegression(multi_class=\"multinomial\").fit(X_train, Y_train)\n",
    "lr_predictions = lr_model.predict(X_train)"
   ]
  },
  {
   "cell_type": "code",
   "execution_count": 67,
   "metadata": {},
   "outputs": [
    {
     "name": "stdout",
     "output_type": "stream",
     "text": [
      "                                 precision    recall  f1-score   support\n",
      "\n",
      "                  dislikes cats       0.00      0.00      0.00        40\n",
      "                  dislikes dogs       0.00      0.00      0.00         9\n",
      "dislikes dogs and dislikes cats       0.00      0.00      0.00        70\n",
      "     dislikes dogs and has cats       0.00      0.00      0.00        32\n",
      "   dislikes dogs and likes cats       0.00      0.00      0.00        92\n",
      "                       has cats       0.00      0.00      0.00       420\n",
      "                       has dogs       0.26      0.01      0.01      1329\n",
      "     has dogs and dislikes cats       0.00      0.00      0.00       226\n",
      "          has dogs and has cats       0.32      0.01      0.02       542\n",
      "        has dogs and likes cats       0.00      0.00      0.00       960\n",
      "                     likes cats       0.00      0.00      0.00       341\n",
      "                     likes dogs       0.35      0.06      0.11      2492\n",
      "   likes dogs and dislikes cats       0.50      0.00      0.00       877\n",
      "        likes dogs and has cats       0.33      0.03      0.05      1588\n",
      "      likes dogs and likes cats       0.40      0.97      0.56      5808\n",
      "\n",
      "                       accuracy                           0.39     14826\n",
      "                      macro avg       0.14      0.07      0.05     14826\n",
      "                   weighted avg       0.31      0.39      0.25     14826\n",
      "\n"
     ]
    }
   ],
   "source": [
    "from sklearn.metrics import classification_report\n",
    "print(classification_report(Y_train, lr_predictions))"
   ]
  },
  {
   "cell_type": "code",
   "execution_count": 68,
   "metadata": {},
   "outputs": [],
   "source": [
    "knn_model = KNeighborsClassifier(n_neighbors = 5).fit(X_train, Y_train)\n",
    "knn_predictions = knn_model.predict(X_train)"
   ]
  },
  {
   "cell_type": "code",
   "execution_count": 69,
   "metadata": {},
   "outputs": [
    {
     "name": "stdout",
     "output_type": "stream",
     "text": [
      "                                 precision    recall  f1-score   support\n",
      "\n",
      "                  dislikes cats       0.28      0.28      0.28        40\n",
      "                  dislikes dogs       0.00      0.00      0.00         9\n",
      "dislikes dogs and dislikes cats       0.23      0.20      0.21        70\n",
      "     dislikes dogs and has cats       0.24      0.16      0.19        32\n",
      "   dislikes dogs and likes cats       0.24      0.24      0.24        92\n",
      "                       has cats       0.25      0.26      0.26       420\n",
      "                       has dogs       0.34      0.38      0.36      1329\n",
      "     has dogs and dislikes cats       0.28      0.12      0.17       226\n",
      "          has dogs and has cats       0.38      0.21      0.27       542\n",
      "        has dogs and likes cats       0.38      0.23      0.29       960\n",
      "                     likes cats       0.43      0.11      0.17       341\n",
      "                     likes dogs       0.44      0.50      0.47      2492\n",
      "   likes dogs and dislikes cats       0.41      0.19      0.26       877\n",
      "        likes dogs and has cats       0.47      0.32      0.38      1588\n",
      "      likes dogs and likes cats       0.56      0.70      0.63      5808\n",
      "\n",
      "                       accuracy                           0.48     14826\n",
      "                      macro avg       0.33      0.26      0.28     14826\n",
      "                   weighted avg       0.46      0.48      0.46     14826\n",
      "\n"
     ]
    }
   ],
   "source": [
    "print(classification_report(Y_train, knn_predictions))"
   ]
  },
  {
   "cell_type": "code",
   "execution_count": 70,
   "metadata": {},
   "outputs": [],
   "source": [
    "cart_model = DecisionTreeClassifier().fit(X_train, Y_train) \n",
    "cart_predictions = cart_model.predict(X_train) "
   ]
  },
  {
   "cell_type": "code",
   "execution_count": 71,
   "metadata": {},
   "outputs": [
    {
     "name": "stdout",
     "output_type": "stream",
     "text": [
      "                                 precision    recall  f1-score   support\n",
      "\n",
      "                  dislikes cats       0.68      0.95      0.79        40\n",
      "                  dislikes dogs       0.80      0.89      0.84         9\n",
      "dislikes dogs and dislikes cats       0.81      0.86      0.83        70\n",
      "     dislikes dogs and has cats       0.86      0.97      0.91        32\n",
      "   dislikes dogs and likes cats       0.69      0.86      0.77        92\n",
      "                       has cats       0.76      0.94      0.84       420\n",
      "                       has dogs       0.74      0.89      0.81      1329\n",
      "     has dogs and dislikes cats       0.78      0.80      0.79       226\n",
      "          has dogs and has cats       0.82      0.89      0.85       542\n",
      "        has dogs and likes cats       0.81      0.84      0.83       960\n",
      "                     likes cats       0.82      0.85      0.84       341\n",
      "                     likes dogs       0.78      0.84      0.81      2492\n",
      "   likes dogs and dislikes cats       0.87      0.75      0.81       877\n",
      "        likes dogs and has cats       0.91      0.81      0.85      1588\n",
      "      likes dogs and likes cats       0.91      0.85      0.88      5808\n",
      "\n",
      "                       accuracy                           0.84     14826\n",
      "                      macro avg       0.80      0.86      0.83     14826\n",
      "                   weighted avg       0.85      0.84      0.84     14826\n",
      "\n"
     ]
    }
   ],
   "source": [
    "print(classification_report(Y_train, cart_predictions))"
   ]
  },
  {
   "cell_type": "code",
   "execution_count": 73,
   "metadata": {},
   "outputs": [],
   "source": [
    "from sklearn.metrics import confusion_matrix \n",
    "cart_cm = confusion_matrix(Y_train, cart_predictions)\n",
    "cart_labels = cart_model.classes_"
   ]
  },
  {
   "cell_type": "code",
   "execution_count": 74,
   "metadata": {},
   "outputs": [
    {
     "data": {
      "image/png": "[encoded data removed]",
      "text/plain": [
       "<Figure size 720x504 with 2 Axes>"
      ]
     },
     "metadata": {
      "needs_background": "light"
     },
     "output_type": "display_data"
    }
   ],
   "source": [
    "plt.figure(figsize=(10,7))\n",
    "\n",
    "ax= plt.subplot()\n",
    "sns.heatmap(cart_cm, annot=True, ax = ax,fmt=\"d\");\n",
    "\n",
    "# labels, title and ticks\n",
    "ax.set_xlabel('Predicted labels');\n",
    "ax.set_ylabel('True labels'); \n",
    "ax.set_title('Confusion Matrix');\n",
    "ax.yaxis.set_tick_params(rotation=360)\n",
    "ax.xaxis.set_tick_params(rotation=90)\n",
    "\n",
    "ax.xaxis.set_ticklabels(cart_labels); \n",
    "ax.yaxis.set_ticklabels(cart_labels);"
   ]
  }
 ],
 "metadata": {
  "kernelspec": {
   "display_name": "Python 3 (ipykernel)",
   "language": "python",
   "name": "python3"
  },
  "language_info": {
   "codemirror_mode": {
    "name": "ipython",
    "version": 3
   },
   "file_extension": ".py",
   "mimetype": "text/x-python",
   "name": "python",
   "nbconvert_exporter": "python",
   "pygments_lexer": "ipython3",
   "version": "3.9.7"
  }
 },
 "nbformat": 4,
 "nbformat_minor": 4
}
